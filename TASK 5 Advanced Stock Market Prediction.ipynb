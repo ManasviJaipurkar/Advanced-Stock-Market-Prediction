{
 "cells": [
  {
   "cell_type": "markdown",
   "id": "17b5a9d1",
   "metadata": {},
   "source": [
    "# Task 5 Advanced Stock Market Prediction\n"
   ]
  },
  {
   "cell_type": "code",
   "execution_count": 1,
   "id": "ed4c5b4a",
   "metadata": {},
   "outputs": [],
   "source": [
    "from warnings import filterwarnings\n",
    "filterwarnings('ignore')\n",
    "# Some Libraries Imported\n",
    "import numpy as np\n",
    "import pandas as pd\n",
    "import matplotlib.pyplot as plt\n",
    "%matplotlib inline\n",
    "import seaborn as sns\n",
    "from datetime import datetime\n",
    "from datetime import datetime"
   ]
  },
  {
   "cell_type": "code",
   "execution_count": 2,
   "id": "8fffc8a5",
   "metadata": {},
   "outputs": [
    {
     "data": {
      "text/html": [
       "<div>\n",
       "<style scoped>\n",
       "    .dataframe tbody tr th:only-of-type {\n",
       "        vertical-align: middle;\n",
       "    }\n",
       "\n",
       "    .dataframe tbody tr th {\n",
       "        vertical-align: top;\n",
       "    }\n",
       "\n",
       "    .dataframe thead th {\n",
       "        text-align: right;\n",
       "    }\n",
       "</style>\n",
       "<table border=\"1\" class=\"dataframe\">\n",
       "  <thead>\n",
       "    <tr style=\"text-align: right;\">\n",
       "      <th></th>\n",
       "      <th>Date</th>\n",
       "      <th>Open</th>\n",
       "      <th>High</th>\n",
       "      <th>Low</th>\n",
       "      <th>Close</th>\n",
       "      <th>Adj Close</th>\n",
       "      <th>Volume</th>\n",
       "    </tr>\n",
       "  </thead>\n",
       "  <tbody>\n",
       "    <tr>\n",
       "      <th>0</th>\n",
       "      <td>2021-07-12</td>\n",
       "      <td>0.18</td>\n",
       "      <td>0.18</td>\n",
       "      <td>0.17</td>\n",
       "      <td>0.17</td>\n",
       "      <td>0.17</td>\n",
       "      <td>14200</td>\n",
       "    </tr>\n",
       "    <tr>\n",
       "      <th>1</th>\n",
       "      <td>2021-07-13</td>\n",
       "      <td>0.17</td>\n",
       "      <td>0.17</td>\n",
       "      <td>0.17</td>\n",
       "      <td>0.17</td>\n",
       "      <td>0.17</td>\n",
       "      <td>31900</td>\n",
       "    </tr>\n",
       "    <tr>\n",
       "      <th>2</th>\n",
       "      <td>2021-07-14</td>\n",
       "      <td>0.17</td>\n",
       "      <td>0.17</td>\n",
       "      <td>0.17</td>\n",
       "      <td>0.17</td>\n",
       "      <td>0.17</td>\n",
       "      <td>63800</td>\n",
       "    </tr>\n",
       "    <tr>\n",
       "      <th>3</th>\n",
       "      <td>2021-07-15</td>\n",
       "      <td>0.17</td>\n",
       "      <td>0.17</td>\n",
       "      <td>0.17</td>\n",
       "      <td>0.17</td>\n",
       "      <td>0.17</td>\n",
       "      <td>90900</td>\n",
       "    </tr>\n",
       "    <tr>\n",
       "      <th>4</th>\n",
       "      <td>2021-07-16</td>\n",
       "      <td>0.17</td>\n",
       "      <td>0.17</td>\n",
       "      <td>0.16</td>\n",
       "      <td>0.16</td>\n",
       "      <td>0.16</td>\n",
       "      <td>20300</td>\n",
       "    </tr>\n",
       "    <tr>\n",
       "      <th>...</th>\n",
       "      <td>...</td>\n",
       "      <td>...</td>\n",
       "      <td>...</td>\n",
       "      <td>...</td>\n",
       "      <td>...</td>\n",
       "      <td>...</td>\n",
       "      <td>...</td>\n",
       "    </tr>\n",
       "    <tr>\n",
       "      <th>247</th>\n",
       "      <td>2022-07-05</td>\n",
       "      <td>0.20</td>\n",
       "      <td>0.20</td>\n",
       "      <td>0.18</td>\n",
       "      <td>0.18</td>\n",
       "      <td>0.18</td>\n",
       "      <td>5400</td>\n",
       "    </tr>\n",
       "    <tr>\n",
       "      <th>248</th>\n",
       "      <td>2022-07-06</td>\n",
       "      <td>0.19</td>\n",
       "      <td>0.20</td>\n",
       "      <td>0.19</td>\n",
       "      <td>0.20</td>\n",
       "      <td>0.20</td>\n",
       "      <td>23200</td>\n",
       "    </tr>\n",
       "    <tr>\n",
       "      <th>249</th>\n",
       "      <td>2022-07-07</td>\n",
       "      <td>0.20</td>\n",
       "      <td>0.21</td>\n",
       "      <td>0.20</td>\n",
       "      <td>0.21</td>\n",
       "      <td>0.21</td>\n",
       "      <td>8800</td>\n",
       "    </tr>\n",
       "    <tr>\n",
       "      <th>250</th>\n",
       "      <td>2022-07-08</td>\n",
       "      <td>0.19</td>\n",
       "      <td>0.20</td>\n",
       "      <td>0.19</td>\n",
       "      <td>0.20</td>\n",
       "      <td>0.20</td>\n",
       "      <td>39700</td>\n",
       "    </tr>\n",
       "    <tr>\n",
       "      <th>251</th>\n",
       "      <td>2022-07-11</td>\n",
       "      <td>0.20</td>\n",
       "      <td>0.21</td>\n",
       "      <td>0.20</td>\n",
       "      <td>0.20</td>\n",
       "      <td>0.20</td>\n",
       "      <td>36200</td>\n",
       "    </tr>\n",
       "  </tbody>\n",
       "</table>\n",
       "<p>252 rows × 7 columns</p>\n",
       "</div>"
      ],
      "text/plain": [
       "           Date  Open  High   Low  Close  Adj Close  Volume\n",
       "0    2021-07-12  0.18  0.18  0.17   0.17       0.17   14200\n",
       "1    2021-07-13  0.17  0.17  0.17   0.17       0.17   31900\n",
       "2    2021-07-14  0.17  0.17  0.17   0.17       0.17   63800\n",
       "3    2021-07-15  0.17  0.17  0.17   0.17       0.17   90900\n",
       "4    2021-07-16  0.17  0.17  0.16   0.16       0.16   20300\n",
       "..          ...   ...   ...   ...    ...        ...     ...\n",
       "247  2022-07-05  0.20  0.20  0.18   0.18       0.18    5400\n",
       "248  2022-07-06  0.19  0.20  0.19   0.20       0.20   23200\n",
       "249  2022-07-07  0.20  0.21  0.20   0.21       0.21    8800\n",
       "250  2022-07-08  0.19  0.20  0.19   0.20       0.20   39700\n",
       "251  2022-07-11  0.20  0.21  0.20   0.20       0.20   36200\n",
       "\n",
       "[252 rows x 7 columns]"
      ]
     },
     "execution_count": 2,
     "metadata": {},
     "output_type": "execute_result"
    }
   ],
   "source": [
    "data=pd.read_csv(\"QMCI.csv\")\n",
    "data"
   ]
  },
  {
   "cell_type": "code",
   "execution_count": 3,
   "id": "ca3c010d",
   "metadata": {},
   "outputs": [
    {
     "data": {
      "text/html": [
       "<div>\n",
       "<style scoped>\n",
       "    .dataframe tbody tr th:only-of-type {\n",
       "        vertical-align: middle;\n",
       "    }\n",
       "\n",
       "    .dataframe tbody tr th {\n",
       "        vertical-align: top;\n",
       "    }\n",
       "\n",
       "    .dataframe thead th {\n",
       "        text-align: right;\n",
       "    }\n",
       "</style>\n",
       "<table border=\"1\" class=\"dataframe\">\n",
       "  <thead>\n",
       "    <tr style=\"text-align: right;\">\n",
       "      <th></th>\n",
       "      <th>Date</th>\n",
       "      <th>Open</th>\n",
       "      <th>High</th>\n",
       "      <th>Low</th>\n",
       "      <th>Close</th>\n",
       "      <th>Adj Close</th>\n",
       "      <th>Volume</th>\n",
       "    </tr>\n",
       "  </thead>\n",
       "  <tbody>\n",
       "    <tr>\n",
       "      <th>0</th>\n",
       "      <td>2021-07-12</td>\n",
       "      <td>0.18</td>\n",
       "      <td>0.18</td>\n",
       "      <td>0.17</td>\n",
       "      <td>0.17</td>\n",
       "      <td>0.17</td>\n",
       "      <td>14200</td>\n",
       "    </tr>\n",
       "    <tr>\n",
       "      <th>1</th>\n",
       "      <td>2021-07-13</td>\n",
       "      <td>0.17</td>\n",
       "      <td>0.17</td>\n",
       "      <td>0.17</td>\n",
       "      <td>0.17</td>\n",
       "      <td>0.17</td>\n",
       "      <td>31900</td>\n",
       "    </tr>\n",
       "    <tr>\n",
       "      <th>2</th>\n",
       "      <td>2021-07-14</td>\n",
       "      <td>0.17</td>\n",
       "      <td>0.17</td>\n",
       "      <td>0.17</td>\n",
       "      <td>0.17</td>\n",
       "      <td>0.17</td>\n",
       "      <td>63800</td>\n",
       "    </tr>\n",
       "    <tr>\n",
       "      <th>3</th>\n",
       "      <td>2021-07-15</td>\n",
       "      <td>0.17</td>\n",
       "      <td>0.17</td>\n",
       "      <td>0.17</td>\n",
       "      <td>0.17</td>\n",
       "      <td>0.17</td>\n",
       "      <td>90900</td>\n",
       "    </tr>\n",
       "    <tr>\n",
       "      <th>4</th>\n",
       "      <td>2021-07-16</td>\n",
       "      <td>0.17</td>\n",
       "      <td>0.17</td>\n",
       "      <td>0.16</td>\n",
       "      <td>0.16</td>\n",
       "      <td>0.16</td>\n",
       "      <td>20300</td>\n",
       "    </tr>\n",
       "  </tbody>\n",
       "</table>\n",
       "</div>"
      ],
      "text/plain": [
       "         Date  Open  High   Low  Close  Adj Close  Volume\n",
       "0  2021-07-12  0.18  0.18  0.17   0.17       0.17   14200\n",
       "1  2021-07-13  0.17  0.17  0.17   0.17       0.17   31900\n",
       "2  2021-07-14  0.17  0.17  0.17   0.17       0.17   63800\n",
       "3  2021-07-15  0.17  0.17  0.17   0.17       0.17   90900\n",
       "4  2021-07-16  0.17  0.17  0.16   0.16       0.16   20300"
      ]
     },
     "execution_count": 3,
     "metadata": {},
     "output_type": "execute_result"
    }
   ],
   "source": [
    "data.head()"
   ]
  },
  {
   "cell_type": "code",
   "execution_count": 4,
   "id": "fb0485be",
   "metadata": {},
   "outputs": [
    {
     "data": {
      "text/html": [
       "<div>\n",
       "<style scoped>\n",
       "    .dataframe tbody tr th:only-of-type {\n",
       "        vertical-align: middle;\n",
       "    }\n",
       "\n",
       "    .dataframe tbody tr th {\n",
       "        vertical-align: top;\n",
       "    }\n",
       "\n",
       "    .dataframe thead th {\n",
       "        text-align: right;\n",
       "    }\n",
       "</style>\n",
       "<table border=\"1\" class=\"dataframe\">\n",
       "  <thead>\n",
       "    <tr style=\"text-align: right;\">\n",
       "      <th></th>\n",
       "      <th>Date</th>\n",
       "      <th>Open</th>\n",
       "      <th>High</th>\n",
       "      <th>Low</th>\n",
       "      <th>Close</th>\n",
       "      <th>Adj Close</th>\n",
       "      <th>Volume</th>\n",
       "    </tr>\n",
       "  </thead>\n",
       "  <tbody>\n",
       "    <tr>\n",
       "      <th>247</th>\n",
       "      <td>2022-07-05</td>\n",
       "      <td>0.20</td>\n",
       "      <td>0.20</td>\n",
       "      <td>0.18</td>\n",
       "      <td>0.18</td>\n",
       "      <td>0.18</td>\n",
       "      <td>5400</td>\n",
       "    </tr>\n",
       "    <tr>\n",
       "      <th>248</th>\n",
       "      <td>2022-07-06</td>\n",
       "      <td>0.19</td>\n",
       "      <td>0.20</td>\n",
       "      <td>0.19</td>\n",
       "      <td>0.20</td>\n",
       "      <td>0.20</td>\n",
       "      <td>23200</td>\n",
       "    </tr>\n",
       "    <tr>\n",
       "      <th>249</th>\n",
       "      <td>2022-07-07</td>\n",
       "      <td>0.20</td>\n",
       "      <td>0.21</td>\n",
       "      <td>0.20</td>\n",
       "      <td>0.21</td>\n",
       "      <td>0.21</td>\n",
       "      <td>8800</td>\n",
       "    </tr>\n",
       "    <tr>\n",
       "      <th>250</th>\n",
       "      <td>2022-07-08</td>\n",
       "      <td>0.19</td>\n",
       "      <td>0.20</td>\n",
       "      <td>0.19</td>\n",
       "      <td>0.20</td>\n",
       "      <td>0.20</td>\n",
       "      <td>39700</td>\n",
       "    </tr>\n",
       "    <tr>\n",
       "      <th>251</th>\n",
       "      <td>2022-07-11</td>\n",
       "      <td>0.20</td>\n",
       "      <td>0.21</td>\n",
       "      <td>0.20</td>\n",
       "      <td>0.20</td>\n",
       "      <td>0.20</td>\n",
       "      <td>36200</td>\n",
       "    </tr>\n",
       "  </tbody>\n",
       "</table>\n",
       "</div>"
      ],
      "text/plain": [
       "           Date  Open  High   Low  Close  Adj Close  Volume\n",
       "247  2022-07-05  0.20  0.20  0.18   0.18       0.18    5400\n",
       "248  2022-07-06  0.19  0.20  0.19   0.20       0.20   23200\n",
       "249  2022-07-07  0.20  0.21  0.20   0.21       0.21    8800\n",
       "250  2022-07-08  0.19  0.20  0.19   0.20       0.20   39700\n",
       "251  2022-07-11  0.20  0.21  0.20   0.20       0.20   36200"
      ]
     },
     "execution_count": 4,
     "metadata": {},
     "output_type": "execute_result"
    }
   ],
   "source": [
    "data.tail()"
   ]
  },
  {
   "cell_type": "code",
   "execution_count": 5,
   "id": "baa17d04",
   "metadata": {},
   "outputs": [
    {
     "data": {
      "text/plain": [
       "['AAPL', 'GOOG', 'TSLA', 'FB']"
      ]
     },
     "execution_count": 5,
     "metadata": {},
     "output_type": "execute_result"
    }
   ],
   "source": [
    "# The tech stocks we'll use for this analysis\n",
    "tech_list = ['AAPL', 'GOOG', 'TSLA', 'FB']\n",
    "tech_list"
   ]
  },
  {
   "cell_type": "code",
   "execution_count": 6,
   "id": "df0c555c",
   "metadata": {},
   "outputs": [],
   "source": [
    "# Set up End and Start times for data grab (We will analyze for 2 years)\n",
    "end = datetime.now()\n",
    "start = datetime(end.year - 2, end.month, end.day)"
   ]
  },
  {
   "cell_type": "code",
   "execution_count": null,
   "id": "71f1839b",
   "metadata": {},
   "outputs": [],
   "source": []
  },
  {
   "cell_type": "code",
   "execution_count": 7,
   "id": "cc75ae32",
   "metadata": {},
   "outputs": [
    {
     "data": {
      "text/plain": [
       "Index(['Date', 'Open', 'High', 'Low', 'Close', 'Adj Close', 'Volume'], dtype='object')"
      ]
     },
     "execution_count": 7,
     "metadata": {},
     "output_type": "execute_result"
    }
   ],
   "source": [
    "data.columns\n",
    "\n"
   ]
  },
  {
   "cell_type": "code",
   "execution_count": 8,
   "id": "391a535a",
   "metadata": {},
   "outputs": [
    {
     "data": {
      "text/plain": [
       "Index(['Date', 'Open', 'High', 'Low', 'Close', 'Adj Close', 'Volume'], dtype='object')"
      ]
     },
     "execution_count": 8,
     "metadata": {},
     "output_type": "execute_result"
    }
   ],
   "source": [
    "data.columns"
   ]
  },
  {
   "cell_type": "code",
   "execution_count": 9,
   "id": "abc3ae97",
   "metadata": {},
   "outputs": [],
   "source": [
    "data.rename(columns={'Open': 'open', 'High': 'high', 'Low': 'low', 'Close': 'close', 'Adj Close': 'adjclose', 'Volume': 'volume'}, inplace = True)"
   ]
  },
  {
   "cell_type": "code",
   "execution_count": 10,
   "id": "42d6ce3e",
   "metadata": {},
   "outputs": [
    {
     "name": "stdout",
     "output_type": "stream",
     "text": [
      "<class 'pandas.core.frame.DataFrame'>\n",
      "RangeIndex: 252 entries, 0 to 251\n",
      "Data columns (total 7 columns):\n",
      " #   Column    Non-Null Count  Dtype  \n",
      "---  ------    --------------  -----  \n",
      " 0   Date      252 non-null    object \n",
      " 1   open      252 non-null    float64\n",
      " 2   high      252 non-null    float64\n",
      " 3   low       252 non-null    float64\n",
      " 4   close     252 non-null    float64\n",
      " 5   adjclose  252 non-null    float64\n",
      " 6   volume    252 non-null    int64  \n",
      "dtypes: float64(5), int64(1), object(1)\n",
      "memory usage: 13.9+ KB\n"
     ]
    }
   ],
   "source": [
    "data.info()"
   ]
  },
  {
   "cell_type": "code",
   "execution_count": 11,
   "id": "2ad68df8",
   "metadata": {},
   "outputs": [
    {
     "data": {
      "text/html": [
       "<div>\n",
       "<style scoped>\n",
       "    .dataframe tbody tr th:only-of-type {\n",
       "        vertical-align: middle;\n",
       "    }\n",
       "\n",
       "    .dataframe tbody tr th {\n",
       "        vertical-align: top;\n",
       "    }\n",
       "\n",
       "    .dataframe thead th {\n",
       "        text-align: right;\n",
       "    }\n",
       "</style>\n",
       "<table border=\"1\" class=\"dataframe\">\n",
       "  <thead>\n",
       "    <tr style=\"text-align: right;\">\n",
       "      <th></th>\n",
       "      <th>open</th>\n",
       "      <th>high</th>\n",
       "      <th>low</th>\n",
       "      <th>close</th>\n",
       "      <th>adjclose</th>\n",
       "      <th>volume</th>\n",
       "    </tr>\n",
       "  </thead>\n",
       "  <tbody>\n",
       "    <tr>\n",
       "      <th>count</th>\n",
       "      <td>252.000000</td>\n",
       "      <td>252.000000</td>\n",
       "      <td>252.000000</td>\n",
       "      <td>252.000000</td>\n",
       "      <td>252.000000</td>\n",
       "      <td>252.000000</td>\n",
       "    </tr>\n",
       "    <tr>\n",
       "      <th>mean</th>\n",
       "      <td>0.190397</td>\n",
       "      <td>0.194960</td>\n",
       "      <td>0.186468</td>\n",
       "      <td>0.190437</td>\n",
       "      <td>0.190437</td>\n",
       "      <td>40625.396825</td>\n",
       "    </tr>\n",
       "    <tr>\n",
       "      <th>std</th>\n",
       "      <td>0.030478</td>\n",
       "      <td>0.033631</td>\n",
       "      <td>0.027539</td>\n",
       "      <td>0.030809</td>\n",
       "      <td>0.030809</td>\n",
       "      <td>62288.787575</td>\n",
       "    </tr>\n",
       "    <tr>\n",
       "      <th>min</th>\n",
       "      <td>0.150000</td>\n",
       "      <td>0.160000</td>\n",
       "      <td>0.150000</td>\n",
       "      <td>0.150000</td>\n",
       "      <td>0.150000</td>\n",
       "      <td>0.000000</td>\n",
       "    </tr>\n",
       "    <tr>\n",
       "      <th>25%</th>\n",
       "      <td>0.170000</td>\n",
       "      <td>0.170000</td>\n",
       "      <td>0.170000</td>\n",
       "      <td>0.170000</td>\n",
       "      <td>0.170000</td>\n",
       "      <td>3600.000000</td>\n",
       "    </tr>\n",
       "    <tr>\n",
       "      <th>50%</th>\n",
       "      <td>0.180000</td>\n",
       "      <td>0.190000</td>\n",
       "      <td>0.180000</td>\n",
       "      <td>0.180000</td>\n",
       "      <td>0.180000</td>\n",
       "      <td>15250.000000</td>\n",
       "    </tr>\n",
       "    <tr>\n",
       "      <th>75%</th>\n",
       "      <td>0.200000</td>\n",
       "      <td>0.210000</td>\n",
       "      <td>0.190000</td>\n",
       "      <td>0.200000</td>\n",
       "      <td>0.200000</td>\n",
       "      <td>51825.000000</td>\n",
       "    </tr>\n",
       "    <tr>\n",
       "      <th>max</th>\n",
       "      <td>0.310000</td>\n",
       "      <td>0.340000</td>\n",
       "      <td>0.290000</td>\n",
       "      <td>0.310000</td>\n",
       "      <td>0.310000</td>\n",
       "      <td>350200.000000</td>\n",
       "    </tr>\n",
       "  </tbody>\n",
       "</table>\n",
       "</div>"
      ],
      "text/plain": [
       "             open        high         low       close    adjclose  \\\n",
       "count  252.000000  252.000000  252.000000  252.000000  252.000000   \n",
       "mean     0.190397    0.194960    0.186468    0.190437    0.190437   \n",
       "std      0.030478    0.033631    0.027539    0.030809    0.030809   \n",
       "min      0.150000    0.160000    0.150000    0.150000    0.150000   \n",
       "25%      0.170000    0.170000    0.170000    0.170000    0.170000   \n",
       "50%      0.180000    0.190000    0.180000    0.180000    0.180000   \n",
       "75%      0.200000    0.210000    0.190000    0.200000    0.200000   \n",
       "max      0.310000    0.340000    0.290000    0.310000    0.310000   \n",
       "\n",
       "              volume  \n",
       "count     252.000000  \n",
       "mean    40625.396825  \n",
       "std     62288.787575  \n",
       "min         0.000000  \n",
       "25%      3600.000000  \n",
       "50%     15250.000000  \n",
       "75%     51825.000000  \n",
       "max    350200.000000  "
      ]
     },
     "execution_count": 11,
     "metadata": {},
     "output_type": "execute_result"
    }
   ],
   "source": [
    "data.describe()"
   ]
  },
  {
   "cell_type": "code",
   "execution_count": 12,
   "id": "faa50b10",
   "metadata": {},
   "outputs": [],
   "source": [
    "data.reset_index(inplace=True)"
   ]
  },
  {
   "cell_type": "code",
   "execution_count": null,
   "id": "2fe42392",
   "metadata": {},
   "outputs": [],
   "source": []
  },
  {
   "cell_type": "code",
   "execution_count": 14,
   "id": "07bdd366",
   "metadata": {},
   "outputs": [
    {
     "data": {
      "text/plain": [
       "0      0.17\n",
       "1      0.17\n",
       "2      0.17\n",
       "3      0.17\n",
       "4      0.16\n",
       "       ... \n",
       "247    0.19\n",
       "248    0.20\n",
       "249    0.21\n",
       "250    0.20\n",
       "251    0.20\n",
       "Length: 252, dtype: float64"
      ]
     },
     "execution_count": 14,
     "metadata": {},
     "output_type": "execute_result"
    }
   ],
   "source": [
    "#before moving forward let us calculate first the actual \n",
    "data_price = round((data['high'] + data['low'] + data['close'])/ 3, 2)\n",
    "data_price  #actual price"
   ]
  },
  {
   "cell_type": "code",
   "execution_count": 15,
   "id": "2563b9d1",
   "metadata": {},
   "outputs": [],
   "source": [
    "def stock_weekmovingavg(wks, df):\n",
    "  dateclose_data = pd.DataFrame({'Date': df['Date'], 'close':df['close']})\n",
    "  dateclose_data.set_index('date', inplace=True)\n",
    "  num = wks * 5                                 #calculating the number of days in the week. 5 days because BSE is open for 5 days / week\n",
    "  dateclose_data['movingavg'] = dateclose_data['close'].rolling(window=num).mean().shift()\n",
    "  return dateclose_data.dropna()"
   ]
  },
  {
   "cell_type": "code",
   "execution_count": 16,
   "id": "0659b5e7",
   "metadata": {},
   "outputs": [
    {
     "data": {
      "text/plain": [
       "Text(0.5, 0, 'High')"
      ]
     },
     "execution_count": 16,
     "metadata": {},
     "output_type": "execute_result"
    },
    {
     "data": {
      "image/png": "[encoded data removed]",
      "text/plain": [
       "<Figure size 432x288 with 1 Axes>"
      ]
     },
     "metadata": {
      "needs_background": "light"
     },
     "output_type": "display_data"
    }
   ],
   "source": [
    "data[\"high\"].plot()\n",
    "plt.xlabel(\"High\")\n"
   ]
  },
  {
   "cell_type": "code",
   "execution_count": 17,
   "id": "a0edaa9d",
   "metadata": {},
   "outputs": [
    {
     "data": {
      "text/plain": [
       "Text(0.5, 0, 'High')"
      ]
     },
     "execution_count": 17,
     "metadata": {},
     "output_type": "execute_result"
    },
    {
     "data": {
      "image/png": "[encoded data removed]",
      "text/plain": [
       "<Figure size 432x288 with 1 Axes>"
      ]
     },
     "metadata": {
      "needs_background": "light"
     },
     "output_type": "display_data"
    }
   ],
   "source": [
    "data[\"low\"].plot()\n",
    "plt.xlabel(\"High\")"
   ]
  },
  {
   "cell_type": "code",
   "execution_count": 18,
   "id": "cfcdbf32",
   "metadata": {},
   "outputs": [
    {
     "data": {
      "text/plain": [
       "Text(0.5, 0, 'open')"
      ]
     },
     "execution_count": 18,
     "metadata": {},
     "output_type": "execute_result"
    },
    {
     "data": {
      "image/png": "[encoded data removed]",
      "text/plain": [
       "<Figure size 432x288 with 1 Axes>"
      ]
     },
     "metadata": {
      "needs_background": "light"
     },
     "output_type": "display_data"
    }
   ],
   "source": [
    "data[\"open\"].plot()\n",
    "plt.xlabel(\"open\")"
   ]
  },
  {
   "cell_type": "code",
   "execution_count": 19,
   "id": "1f1ffb73",
   "metadata": {},
   "outputs": [
    {
     "data": {
      "text/plain": [
       "Text(0.5, 0, 'open')"
      ]
     },
     "execution_count": 19,
     "metadata": {},
     "output_type": "execute_result"
    },
    {
     "data": {
      "image/png": "[encoded data removed]",
      "text/plain": [
       "<Figure size 432x288 with 1 Axes>"
      ]
     },
     "metadata": {
      "needs_background": "light"
     },
     "output_type": "display_data"
    }
   ],
   "source": [
    "data[\"close\"].plot()\n",
    "plt.xlabel(\"open\")"
   ]
  },
  {
   "cell_type": "code",
   "execution_count": 20,
   "id": "5745cdb2",
   "metadata": {},
   "outputs": [
    {
     "data": {
      "text/plain": [
       "Text(0.5, 0, 'open')"
      ]
     },
     "execution_count": 20,
     "metadata": {},
     "output_type": "execute_result"
    },
    {
     "data": {
      "image/png": "[encoded data removed]",
      "text/plain": [
       "<Figure size 432x288 with 1 Axes>"
      ]
     },
     "metadata": {
      "needs_background": "light"
     },
     "output_type": "display_data"
    }
   ],
   "source": [
    "data[\"volume\"].plot()\n",
    "plt.xlabel(\"open\")"
   ]
  },
  {
   "cell_type": "code",
   "execution_count": null,
   "id": "87308e1d",
   "metadata": {},
   "outputs": [],
   "source": []
  },
  {
   "cell_type": "code",
   "execution_count": 25,
   "id": "06a67b0d",
   "metadata": {},
   "outputs": [],
   "source": [
    "data[\"Date\"]=pd.to_datetime(data[\"Date\"],infer_datetime_format=True)\n",
    "data=data.set_index(['Date'])\n",
    "data.fillna(method='ffill',inplace=True)"
   ]
  },
  {
   "cell_type": "code",
   "execution_count": 26,
   "id": "5fc0057f",
   "metadata": {},
   "outputs": [],
   "source": [
    "from sklearn.preprocessing import MinMaxScaler\n",
    "scale=MinMaxScaler()\n",
    "scale=scale.fit(data)\n",
    "data=scale.transform(data)"
   ]
  },
  {
   "cell_type": "code",
   "execution_count": 29,
   "id": "32e6dc8d",
   "metadata": {},
   "outputs": [],
   "source": [
    "def sss(w):\n",
    "    t1,t2=w.shape\n",
    "    a=[]\n",
    "    t={}\n",
    "    for i in range(t2):\n",
    "        for j in range(t1):\n",
    "                a.append(w[j][i])\n",
    "        ss=pd.Series(a)\n",
    "        t.update({i:ss})\n",
    "        a=[]\n",
    "    k=[]\n",
    "    for i,j in t.items():\n",
    "        k.append(j)\n",
    "    ww=pd.concat(k,axis=1)\n",
    "    n=len(ww.columns)\n",
    "    for i in range(n):\n",
    "         ww[n+i]=ww[i].shift(-1)\n",
    "    return ww"
   ]
  },
  {
   "cell_type": "code",
   "execution_count": 30,
   "id": "fef9ce06",
   "metadata": {},
   "outputs": [],
   "source": [
    "w=sss(data)\n"
   ]
  },
  {
   "cell_type": "code",
   "execution_count": 31,
   "id": "44ab115f",
   "metadata": {},
   "outputs": [
    {
     "data": {
      "text/html": [
       "<div>\n",
       "<style scoped>\n",
       "    .dataframe tbody tr th:only-of-type {\n",
       "        vertical-align: middle;\n",
       "    }\n",
       "\n",
       "    .dataframe tbody tr th {\n",
       "        vertical-align: top;\n",
       "    }\n",
       "\n",
       "    .dataframe thead th {\n",
       "        text-align: right;\n",
       "    }\n",
       "</style>\n",
       "<table border=\"1\" class=\"dataframe\">\n",
       "  <thead>\n",
       "    <tr style=\"text-align: right;\">\n",
       "      <th></th>\n",
       "      <th>0</th>\n",
       "      <th>1</th>\n",
       "      <th>2</th>\n",
       "      <th>3</th>\n",
       "      <th>4</th>\n",
       "      <th>5</th>\n",
       "      <th>6</th>\n",
       "      <th>7</th>\n",
       "      <th>8</th>\n",
       "      <th>9</th>\n",
       "      <th>10</th>\n",
       "      <th>11</th>\n",
       "      <th>12</th>\n",
       "      <th>13</th>\n",
       "    </tr>\n",
       "  </thead>\n",
       "  <tbody>\n",
       "    <tr>\n",
       "      <th>0</th>\n",
       "      <td>0.000000</td>\n",
       "      <td>0.1875</td>\n",
       "      <td>0.111111</td>\n",
       "      <td>0.142857</td>\n",
       "      <td>0.1250</td>\n",
       "      <td>0.1250</td>\n",
       "      <td>0.040548</td>\n",
       "      <td>0.003984</td>\n",
       "      <td>0.1250</td>\n",
       "      <td>0.055556</td>\n",
       "      <td>0.142857</td>\n",
       "      <td>0.1250</td>\n",
       "      <td>0.1250</td>\n",
       "      <td>0.091091</td>\n",
       "    </tr>\n",
       "    <tr>\n",
       "      <th>1</th>\n",
       "      <td>0.003984</td>\n",
       "      <td>0.1250</td>\n",
       "      <td>0.055556</td>\n",
       "      <td>0.142857</td>\n",
       "      <td>0.1250</td>\n",
       "      <td>0.1250</td>\n",
       "      <td>0.091091</td>\n",
       "      <td>0.007968</td>\n",
       "      <td>0.1250</td>\n",
       "      <td>0.055556</td>\n",
       "      <td>0.142857</td>\n",
       "      <td>0.1250</td>\n",
       "      <td>0.1250</td>\n",
       "      <td>0.182182</td>\n",
       "    </tr>\n",
       "    <tr>\n",
       "      <th>2</th>\n",
       "      <td>0.007968</td>\n",
       "      <td>0.1250</td>\n",
       "      <td>0.055556</td>\n",
       "      <td>0.142857</td>\n",
       "      <td>0.1250</td>\n",
       "      <td>0.1250</td>\n",
       "      <td>0.182182</td>\n",
       "      <td>0.011952</td>\n",
       "      <td>0.1250</td>\n",
       "      <td>0.055556</td>\n",
       "      <td>0.142857</td>\n",
       "      <td>0.1250</td>\n",
       "      <td>0.1250</td>\n",
       "      <td>0.259566</td>\n",
       "    </tr>\n",
       "    <tr>\n",
       "      <th>3</th>\n",
       "      <td>0.011952</td>\n",
       "      <td>0.1250</td>\n",
       "      <td>0.055556</td>\n",
       "      <td>0.142857</td>\n",
       "      <td>0.1250</td>\n",
       "      <td>0.1250</td>\n",
       "      <td>0.259566</td>\n",
       "      <td>0.015936</td>\n",
       "      <td>0.1250</td>\n",
       "      <td>0.055556</td>\n",
       "      <td>0.071429</td>\n",
       "      <td>0.0625</td>\n",
       "      <td>0.0625</td>\n",
       "      <td>0.057967</td>\n",
       "    </tr>\n",
       "    <tr>\n",
       "      <th>4</th>\n",
       "      <td>0.015936</td>\n",
       "      <td>0.1250</td>\n",
       "      <td>0.055556</td>\n",
       "      <td>0.071429</td>\n",
       "      <td>0.0625</td>\n",
       "      <td>0.0625</td>\n",
       "      <td>0.057967</td>\n",
       "      <td>0.019920</td>\n",
       "      <td>0.1250</td>\n",
       "      <td>0.055556</td>\n",
       "      <td>0.142857</td>\n",
       "      <td>0.1250</td>\n",
       "      <td>0.1250</td>\n",
       "      <td>0.034552</td>\n",
       "    </tr>\n",
       "    <tr>\n",
       "      <th>...</th>\n",
       "      <td>...</td>\n",
       "      <td>...</td>\n",
       "      <td>...</td>\n",
       "      <td>...</td>\n",
       "      <td>...</td>\n",
       "      <td>...</td>\n",
       "      <td>...</td>\n",
       "      <td>...</td>\n",
       "      <td>...</td>\n",
       "      <td>...</td>\n",
       "      <td>...</td>\n",
       "      <td>...</td>\n",
       "      <td>...</td>\n",
       "      <td>...</td>\n",
       "    </tr>\n",
       "    <tr>\n",
       "      <th>247</th>\n",
       "      <td>0.984064</td>\n",
       "      <td>0.3125</td>\n",
       "      <td>0.222222</td>\n",
       "      <td>0.214286</td>\n",
       "      <td>0.1875</td>\n",
       "      <td>0.1875</td>\n",
       "      <td>0.015420</td>\n",
       "      <td>0.988048</td>\n",
       "      <td>0.2500</td>\n",
       "      <td>0.222222</td>\n",
       "      <td>0.285714</td>\n",
       "      <td>0.3125</td>\n",
       "      <td>0.3125</td>\n",
       "      <td>0.066248</td>\n",
       "    </tr>\n",
       "    <tr>\n",
       "      <th>248</th>\n",
       "      <td>0.988048</td>\n",
       "      <td>0.2500</td>\n",
       "      <td>0.222222</td>\n",
       "      <td>0.285714</td>\n",
       "      <td>0.3125</td>\n",
       "      <td>0.3125</td>\n",
       "      <td>0.066248</td>\n",
       "      <td>0.992032</td>\n",
       "      <td>0.3125</td>\n",
       "      <td>0.277778</td>\n",
       "      <td>0.357143</td>\n",
       "      <td>0.3750</td>\n",
       "      <td>0.3750</td>\n",
       "      <td>0.025128</td>\n",
       "    </tr>\n",
       "    <tr>\n",
       "      <th>249</th>\n",
       "      <td>0.992032</td>\n",
       "      <td>0.3125</td>\n",
       "      <td>0.277778</td>\n",
       "      <td>0.357143</td>\n",
       "      <td>0.3750</td>\n",
       "      <td>0.3750</td>\n",
       "      <td>0.025128</td>\n",
       "      <td>0.996016</td>\n",
       "      <td>0.2500</td>\n",
       "      <td>0.222222</td>\n",
       "      <td>0.285714</td>\n",
       "      <td>0.3125</td>\n",
       "      <td>0.3125</td>\n",
       "      <td>0.113364</td>\n",
       "    </tr>\n",
       "    <tr>\n",
       "      <th>250</th>\n",
       "      <td>0.996016</td>\n",
       "      <td>0.2500</td>\n",
       "      <td>0.222222</td>\n",
       "      <td>0.285714</td>\n",
       "      <td>0.3125</td>\n",
       "      <td>0.3125</td>\n",
       "      <td>0.113364</td>\n",
       "      <td>1.000000</td>\n",
       "      <td>0.3125</td>\n",
       "      <td>0.277778</td>\n",
       "      <td>0.357143</td>\n",
       "      <td>0.3125</td>\n",
       "      <td>0.3125</td>\n",
       "      <td>0.103370</td>\n",
       "    </tr>\n",
       "    <tr>\n",
       "      <th>251</th>\n",
       "      <td>1.000000</td>\n",
       "      <td>0.3125</td>\n",
       "      <td>0.277778</td>\n",
       "      <td>0.357143</td>\n",
       "      <td>0.3125</td>\n",
       "      <td>0.3125</td>\n",
       "      <td>0.103370</td>\n",
       "      <td>NaN</td>\n",
       "      <td>NaN</td>\n",
       "      <td>NaN</td>\n",
       "      <td>NaN</td>\n",
       "      <td>NaN</td>\n",
       "      <td>NaN</td>\n",
       "      <td>NaN</td>\n",
       "    </tr>\n",
       "  </tbody>\n",
       "</table>\n",
       "<p>252 rows × 14 columns</p>\n",
       "</div>"
      ],
      "text/plain": [
       "           0       1         2         3       4       5         6         7   \\\n",
       "0    0.000000  0.1875  0.111111  0.142857  0.1250  0.1250  0.040548  0.003984   \n",
       "1    0.003984  0.1250  0.055556  0.142857  0.1250  0.1250  0.091091  0.007968   \n",
       "2    0.007968  0.1250  0.055556  0.142857  0.1250  0.1250  0.182182  0.011952   \n",
       "3    0.011952  0.1250  0.055556  0.142857  0.1250  0.1250  0.259566  0.015936   \n",
       "4    0.015936  0.1250  0.055556  0.071429  0.0625  0.0625  0.057967  0.019920   \n",
       "..        ...     ...       ...       ...     ...     ...       ...       ...   \n",
       "247  0.984064  0.3125  0.222222  0.214286  0.1875  0.1875  0.015420  0.988048   \n",
       "248  0.988048  0.2500  0.222222  0.285714  0.3125  0.3125  0.066248  0.992032   \n",
       "249  0.992032  0.3125  0.277778  0.357143  0.3750  0.3750  0.025128  0.996016   \n",
       "250  0.996016  0.2500  0.222222  0.285714  0.3125  0.3125  0.113364  1.000000   \n",
       "251  1.000000  0.3125  0.277778  0.357143  0.3125  0.3125  0.103370       NaN   \n",
       "\n",
       "         8         9         10      11      12        13  \n",
       "0    0.1250  0.055556  0.142857  0.1250  0.1250  0.091091  \n",
       "1    0.1250  0.055556  0.142857  0.1250  0.1250  0.182182  \n",
       "2    0.1250  0.055556  0.142857  0.1250  0.1250  0.259566  \n",
       "3    0.1250  0.055556  0.071429  0.0625  0.0625  0.057967  \n",
       "4    0.1250  0.055556  0.142857  0.1250  0.1250  0.034552  \n",
       "..      ...       ...       ...     ...     ...       ...  \n",
       "247  0.2500  0.222222  0.285714  0.3125  0.3125  0.066248  \n",
       "248  0.3125  0.277778  0.357143  0.3750  0.3750  0.025128  \n",
       "249  0.2500  0.222222  0.285714  0.3125  0.3125  0.113364  \n",
       "250  0.3125  0.277778  0.357143  0.3125  0.3125  0.103370  \n",
       "251     NaN       NaN       NaN     NaN     NaN       NaN  \n",
       "\n",
       "[252 rows x 14 columns]"
      ]
     },
     "execution_count": 31,
     "metadata": {},
     "output_type": "execute_result"
    }
   ],
   "source": [
    "w"
   ]
  },
  {
   "cell_type": "code",
   "execution_count": 33,
   "id": "244a36b3",
   "metadata": {},
   "outputs": [],
   "source": [
    "w.fillna(method='ffill',inplace=True)"
   ]
  },
  {
   "cell_type": "code",
   "execution_count": 34,
   "id": "3dcd9c00",
   "metadata": {},
   "outputs": [],
   "source": [
    "w.drop([6,7,8,9],axis=1,inplace=True)"
   ]
  },
  {
   "cell_type": "code",
   "execution_count": 35,
   "id": "23df0bfe",
   "metadata": {},
   "outputs": [
    {
     "data": {
      "text/html": [
       "<div>\n",
       "<style scoped>\n",
       "    .dataframe tbody tr th:only-of-type {\n",
       "        vertical-align: middle;\n",
       "    }\n",
       "\n",
       "    .dataframe tbody tr th {\n",
       "        vertical-align: top;\n",
       "    }\n",
       "\n",
       "    .dataframe thead th {\n",
       "        text-align: right;\n",
       "    }\n",
       "</style>\n",
       "<table border=\"1\" class=\"dataframe\">\n",
       "  <thead>\n",
       "    <tr style=\"text-align: right;\">\n",
       "      <th></th>\n",
       "      <th>0</th>\n",
       "      <th>1</th>\n",
       "      <th>2</th>\n",
       "      <th>3</th>\n",
       "      <th>4</th>\n",
       "      <th>5</th>\n",
       "      <th>10</th>\n",
       "      <th>11</th>\n",
       "      <th>12</th>\n",
       "      <th>13</th>\n",
       "    </tr>\n",
       "  </thead>\n",
       "  <tbody>\n",
       "    <tr>\n",
       "      <th>0</th>\n",
       "      <td>0.000000</td>\n",
       "      <td>0.1875</td>\n",
       "      <td>0.111111</td>\n",
       "      <td>0.142857</td>\n",
       "      <td>0.1250</td>\n",
       "      <td>0.1250</td>\n",
       "      <td>0.142857</td>\n",
       "      <td>0.1250</td>\n",
       "      <td>0.1250</td>\n",
       "      <td>0.091091</td>\n",
       "    </tr>\n",
       "    <tr>\n",
       "      <th>1</th>\n",
       "      <td>0.003984</td>\n",
       "      <td>0.1250</td>\n",
       "      <td>0.055556</td>\n",
       "      <td>0.142857</td>\n",
       "      <td>0.1250</td>\n",
       "      <td>0.1250</td>\n",
       "      <td>0.142857</td>\n",
       "      <td>0.1250</td>\n",
       "      <td>0.1250</td>\n",
       "      <td>0.182182</td>\n",
       "    </tr>\n",
       "    <tr>\n",
       "      <th>2</th>\n",
       "      <td>0.007968</td>\n",
       "      <td>0.1250</td>\n",
       "      <td>0.055556</td>\n",
       "      <td>0.142857</td>\n",
       "      <td>0.1250</td>\n",
       "      <td>0.1250</td>\n",
       "      <td>0.142857</td>\n",
       "      <td>0.1250</td>\n",
       "      <td>0.1250</td>\n",
       "      <td>0.259566</td>\n",
       "    </tr>\n",
       "    <tr>\n",
       "      <th>3</th>\n",
       "      <td>0.011952</td>\n",
       "      <td>0.1250</td>\n",
       "      <td>0.055556</td>\n",
       "      <td>0.142857</td>\n",
       "      <td>0.1250</td>\n",
       "      <td>0.1250</td>\n",
       "      <td>0.071429</td>\n",
       "      <td>0.0625</td>\n",
       "      <td>0.0625</td>\n",
       "      <td>0.057967</td>\n",
       "    </tr>\n",
       "    <tr>\n",
       "      <th>4</th>\n",
       "      <td>0.015936</td>\n",
       "      <td>0.1250</td>\n",
       "      <td>0.055556</td>\n",
       "      <td>0.071429</td>\n",
       "      <td>0.0625</td>\n",
       "      <td>0.0625</td>\n",
       "      <td>0.142857</td>\n",
       "      <td>0.1250</td>\n",
       "      <td>0.1250</td>\n",
       "      <td>0.034552</td>\n",
       "    </tr>\n",
       "    <tr>\n",
       "      <th>...</th>\n",
       "      <td>...</td>\n",
       "      <td>...</td>\n",
       "      <td>...</td>\n",
       "      <td>...</td>\n",
       "      <td>...</td>\n",
       "      <td>...</td>\n",
       "      <td>...</td>\n",
       "      <td>...</td>\n",
       "      <td>...</td>\n",
       "      <td>...</td>\n",
       "    </tr>\n",
       "    <tr>\n",
       "      <th>247</th>\n",
       "      <td>0.984064</td>\n",
       "      <td>0.3125</td>\n",
       "      <td>0.222222</td>\n",
       "      <td>0.214286</td>\n",
       "      <td>0.1875</td>\n",
       "      <td>0.1875</td>\n",
       "      <td>0.285714</td>\n",
       "      <td>0.3125</td>\n",
       "      <td>0.3125</td>\n",
       "      <td>0.066248</td>\n",
       "    </tr>\n",
       "    <tr>\n",
       "      <th>248</th>\n",
       "      <td>0.988048</td>\n",
       "      <td>0.2500</td>\n",
       "      <td>0.222222</td>\n",
       "      <td>0.285714</td>\n",
       "      <td>0.3125</td>\n",
       "      <td>0.3125</td>\n",
       "      <td>0.357143</td>\n",
       "      <td>0.3750</td>\n",
       "      <td>0.3750</td>\n",
       "      <td>0.025128</td>\n",
       "    </tr>\n",
       "    <tr>\n",
       "      <th>249</th>\n",
       "      <td>0.992032</td>\n",
       "      <td>0.3125</td>\n",
       "      <td>0.277778</td>\n",
       "      <td>0.357143</td>\n",
       "      <td>0.3750</td>\n",
       "      <td>0.3750</td>\n",
       "      <td>0.285714</td>\n",
       "      <td>0.3125</td>\n",
       "      <td>0.3125</td>\n",
       "      <td>0.113364</td>\n",
       "    </tr>\n",
       "    <tr>\n",
       "      <th>250</th>\n",
       "      <td>0.996016</td>\n",
       "      <td>0.2500</td>\n",
       "      <td>0.222222</td>\n",
       "      <td>0.285714</td>\n",
       "      <td>0.3125</td>\n",
       "      <td>0.3125</td>\n",
       "      <td>0.357143</td>\n",
       "      <td>0.3125</td>\n",
       "      <td>0.3125</td>\n",
       "      <td>0.103370</td>\n",
       "    </tr>\n",
       "    <tr>\n",
       "      <th>251</th>\n",
       "      <td>1.000000</td>\n",
       "      <td>0.3125</td>\n",
       "      <td>0.277778</td>\n",
       "      <td>0.357143</td>\n",
       "      <td>0.3125</td>\n",
       "      <td>0.3125</td>\n",
       "      <td>0.357143</td>\n",
       "      <td>0.3125</td>\n",
       "      <td>0.3125</td>\n",
       "      <td>0.103370</td>\n",
       "    </tr>\n",
       "  </tbody>\n",
       "</table>\n",
       "<p>252 rows × 10 columns</p>\n",
       "</div>"
      ],
      "text/plain": [
       "           0       1         2         3       4       5         10      11  \\\n",
       "0    0.000000  0.1875  0.111111  0.142857  0.1250  0.1250  0.142857  0.1250   \n",
       "1    0.003984  0.1250  0.055556  0.142857  0.1250  0.1250  0.142857  0.1250   \n",
       "2    0.007968  0.1250  0.055556  0.142857  0.1250  0.1250  0.142857  0.1250   \n",
       "3    0.011952  0.1250  0.055556  0.142857  0.1250  0.1250  0.071429  0.0625   \n",
       "4    0.015936  0.1250  0.055556  0.071429  0.0625  0.0625  0.142857  0.1250   \n",
       "..        ...     ...       ...       ...     ...     ...       ...     ...   \n",
       "247  0.984064  0.3125  0.222222  0.214286  0.1875  0.1875  0.285714  0.3125   \n",
       "248  0.988048  0.2500  0.222222  0.285714  0.3125  0.3125  0.357143  0.3750   \n",
       "249  0.992032  0.3125  0.277778  0.357143  0.3750  0.3750  0.285714  0.3125   \n",
       "250  0.996016  0.2500  0.222222  0.285714  0.3125  0.3125  0.357143  0.3125   \n",
       "251  1.000000  0.3125  0.277778  0.357143  0.3125  0.3125  0.357143  0.3125   \n",
       "\n",
       "         12        13  \n",
       "0    0.1250  0.091091  \n",
       "1    0.1250  0.182182  \n",
       "2    0.1250  0.259566  \n",
       "3    0.0625  0.057967  \n",
       "4    0.1250  0.034552  \n",
       "..      ...       ...  \n",
       "247  0.3125  0.066248  \n",
       "248  0.3750  0.025128  \n",
       "249  0.3125  0.113364  \n",
       "250  0.3125  0.103370  \n",
       "251  0.3125  0.103370  \n",
       "\n",
       "[252 rows x 10 columns]"
      ]
     },
     "execution_count": 35,
     "metadata": {},
     "output_type": "execute_result"
    }
   ],
   "source": [
    "w"
   ]
  },
  {
   "cell_type": "code",
   "execution_count": 36,
   "id": "ea914d0d",
   "metadata": {},
   "outputs": [
    {
     "name": "stdout",
     "output_type": "stream",
     "text": [
      "<class 'pandas.core.frame.DataFrame'>\n",
      "RangeIndex: 252 entries, 0 to 251\n",
      "Data columns (total 10 columns):\n",
      " #   Column  Non-Null Count  Dtype  \n",
      "---  ------  --------------  -----  \n",
      " 0   0       252 non-null    float64\n",
      " 1   1       252 non-null    float64\n",
      " 2   2       252 non-null    float64\n",
      " 3   3       252 non-null    float64\n",
      " 4   4       252 non-null    float64\n",
      " 5   5       252 non-null    float64\n",
      " 6   10      252 non-null    float64\n",
      " 7   11      252 non-null    float64\n",
      " 8   12      252 non-null    float64\n",
      " 9   13      252 non-null    float64\n",
      "dtypes: float64(10)\n",
      "memory usage: 19.8 KB\n"
     ]
    }
   ],
   "source": [
    "w.info()"
   ]
  },
  {
   "cell_type": "code",
   "execution_count": 37,
   "id": "b48b625a",
   "metadata": {},
   "outputs": [],
   "source": [
    "www=w.values\n",
    "xtrain,xtest,ytrain,ytest=www[:3759,0:5],www[3759:,0:5],www[:3759,-1],www[3759:,-1]\n",
    "xtes=xtest"
   ]
  },
  {
   "cell_type": "code",
   "execution_count": 38,
   "id": "de869273",
   "metadata": {},
   "outputs": [
    {
     "data": {
      "text/plain": [
       "array([], shape=(0, 5), dtype=float64)"
      ]
     },
     "execution_count": 38,
     "metadata": {},
     "output_type": "execute_result"
    }
   ],
   "source": [
    "xtes"
   ]
  },
  {
   "cell_type": "code",
   "execution_count": 39,
   "id": "71d09e55",
   "metadata": {},
   "outputs": [],
   "source": [
    "xtrain = xtrain.reshape(xtrain.shape[0], xtrain.shape[1], 1)\n",
    "xtest = xtest.reshape(xtest.shape[0], xtest.shape[1], 1)"
   ]
  },
  {
   "cell_type": "code",
   "execution_count": 40,
   "id": "97aeeb34",
   "metadata": {},
   "outputs": [],
   "source": [
    "from tensorflow.keras.models import Sequential\n",
    "from tensorflow.keras.layers import Dense\n",
    "from tensorflow.keras.layers import LSTM,Dropout,SpatialDropout1D\n",
    "from keras.layers import Bidirectional"
   ]
  },
  {
   "cell_type": "code",
   "execution_count": 41,
   "id": "7742fdf6",
   "metadata": {},
   "outputs": [],
   "source": [
    "model=Sequential()\n",
    "model.add(Bidirectional(LSTM(100,activation=\"relu\",input_shape=(xtrain.shape[1],xtrain.shape[2]))))\n",
    "model.add(Dense(1))\n",
    "model.compile(optimizer='adam', loss='mse')"
   ]
  },
  {
   "cell_type": "code",
   "execution_count": 42,
   "id": "b09129be",
   "metadata": {},
   "outputs": [
    {
     "name": "stdout",
     "output_type": "stream",
     "text": [
      "Epoch 1/50\n",
      "8/8 - 6s - loss: 0.0437 - 6s/epoch - 733ms/step\n",
      "Epoch 2/50\n",
      "8/8 - 0s - loss: 0.0304 - 114ms/epoch - 14ms/step\n",
      "Epoch 3/50\n",
      "8/8 - 0s - loss: 0.0316 - 106ms/epoch - 13ms/step\n",
      "Epoch 4/50\n",
      "8/8 - 0s - loss: 0.0312 - 97ms/epoch - 12ms/step\n",
      "Epoch 5/50\n",
      "8/8 - 0s - loss: 0.0307 - 113ms/epoch - 14ms/step\n",
      "Epoch 6/50\n",
      "8/8 - 0s - loss: 0.0308 - 106ms/epoch - 13ms/step\n",
      "Epoch 7/50\n",
      "8/8 - 0s - loss: 0.0305 - 107ms/epoch - 13ms/step\n",
      "Epoch 8/50\n",
      "8/8 - 0s - loss: 0.0305 - 107ms/epoch - 13ms/step\n",
      "Epoch 9/50\n",
      "8/8 - 0s - loss: 0.0305 - 125ms/epoch - 16ms/step\n",
      "Epoch 10/50\n",
      "8/8 - 0s - loss: 0.0305 - 93ms/epoch - 12ms/step\n",
      "Epoch 11/50\n",
      "8/8 - 0s - loss: 0.0305 - 94ms/epoch - 12ms/step\n",
      "Epoch 12/50\n",
      "8/8 - 0s - loss: 0.0305 - 89ms/epoch - 11ms/step\n",
      "Epoch 13/50\n",
      "8/8 - 0s - loss: 0.0304 - 107ms/epoch - 13ms/step\n",
      "Epoch 14/50\n",
      "8/8 - 0s - loss: 0.0304 - 95ms/epoch - 12ms/step\n",
      "Epoch 15/50\n",
      "8/8 - 0s - loss: 0.0304 - 105ms/epoch - 13ms/step\n",
      "Epoch 16/50\n",
      "8/8 - 0s - loss: 0.0304 - 104ms/epoch - 13ms/step\n",
      "Epoch 17/50\n",
      "8/8 - 0s - loss: 0.0304 - 105ms/epoch - 13ms/step\n",
      "Epoch 18/50\n",
      "8/8 - 0s - loss: 0.0304 - 91ms/epoch - 11ms/step\n",
      "Epoch 19/50\n",
      "8/8 - 0s - loss: 0.0304 - 95ms/epoch - 12ms/step\n",
      "Epoch 20/50\n",
      "8/8 - 0s - loss: 0.0304 - 112ms/epoch - 14ms/step\n",
      "Epoch 21/50\n",
      "8/8 - 0s - loss: 0.0305 - 98ms/epoch - 12ms/step\n",
      "Epoch 22/50\n",
      "8/8 - 0s - loss: 0.0306 - 114ms/epoch - 14ms/step\n",
      "Epoch 23/50\n",
      "8/8 - 0s - loss: 0.0304 - 105ms/epoch - 13ms/step\n",
      "Epoch 24/50\n",
      "8/8 - 0s - loss: 0.0304 - 99ms/epoch - 12ms/step\n",
      "Epoch 25/50\n",
      "8/8 - 0s - loss: 0.0304 - 98ms/epoch - 12ms/step\n",
      "Epoch 26/50\n",
      "8/8 - 0s - loss: 0.0304 - 97ms/epoch - 12ms/step\n",
      "Epoch 27/50\n",
      "8/8 - 0s - loss: 0.0304 - 99ms/epoch - 12ms/step\n",
      "Epoch 28/50\n",
      "8/8 - 0s - loss: 0.0303 - 116ms/epoch - 14ms/step\n",
      "Epoch 29/50\n",
      "8/8 - 0s - loss: 0.0304 - 100ms/epoch - 13ms/step\n",
      "Epoch 30/50\n",
      "8/8 - 0s - loss: 0.0305 - 104ms/epoch - 13ms/step\n",
      "Epoch 31/50\n",
      "8/8 - 0s - loss: 0.0304 - 105ms/epoch - 13ms/step\n",
      "Epoch 32/50\n",
      "8/8 - 0s - loss: 0.0303 - 95ms/epoch - 12ms/step\n",
      "Epoch 33/50\n",
      "8/8 - 0s - loss: 0.0305 - 99ms/epoch - 12ms/step\n",
      "Epoch 34/50\n",
      "8/8 - 0s - loss: 0.0303 - 99ms/epoch - 12ms/step\n",
      "Epoch 35/50\n",
      "8/8 - 0s - loss: 0.0305 - 117ms/epoch - 15ms/step\n",
      "Epoch 36/50\n",
      "8/8 - 0s - loss: 0.0303 - 107ms/epoch - 13ms/step\n",
      "Epoch 37/50\n",
      "8/8 - 0s - loss: 0.0303 - 114ms/epoch - 14ms/step\n",
      "Epoch 38/50\n",
      "8/8 - 0s - loss: 0.0306 - 128ms/epoch - 16ms/step\n",
      "Epoch 39/50\n",
      "8/8 - 0s - loss: 0.0303 - 107ms/epoch - 13ms/step\n",
      "Epoch 40/50\n",
      "8/8 - 0s - loss: 0.0304 - 105ms/epoch - 13ms/step\n",
      "Epoch 41/50\n",
      "8/8 - 0s - loss: 0.0305 - 108ms/epoch - 13ms/step\n",
      "Epoch 42/50\n",
      "8/8 - 0s - loss: 0.0303 - 93ms/epoch - 12ms/step\n",
      "Epoch 43/50\n",
      "8/8 - 0s - loss: 0.0303 - 94ms/epoch - 12ms/step\n",
      "Epoch 44/50\n",
      "8/8 - 0s - loss: 0.0305 - 88ms/epoch - 11ms/step\n",
      "Epoch 45/50\n",
      "8/8 - 0s - loss: 0.0303 - 88ms/epoch - 11ms/step\n",
      "Epoch 46/50\n",
      "8/8 - 0s - loss: 0.0304 - 104ms/epoch - 13ms/step\n",
      "Epoch 47/50\n",
      "8/8 - 0s - loss: 0.0303 - 145ms/epoch - 18ms/step\n",
      "Epoch 48/50\n",
      "8/8 - 0s - loss: 0.0303 - 98ms/epoch - 12ms/step\n",
      "Epoch 49/50\n",
      "8/8 - 0s - loss: 0.0303 - 91ms/epoch - 11ms/step\n",
      "Epoch 50/50\n",
      "8/8 - 0s - loss: 0.0305 - 95ms/epoch - 12ms/step\n"
     ]
    },
    {
     "data": {
      "text/plain": [
       "<keras.callbacks.History at 0x2339d510a30>"
      ]
     },
     "execution_count": 42,
     "metadata": {},
     "output_type": "execute_result"
    }
   ],
   "source": [
    "model.fit(xtrain,ytrain,validation_data=(xtest,ytest),epochs=50,batch_size=32,verbose=2)"
   ]
  },
  {
   "cell_type": "code",
   "execution_count": null,
   "id": "ed521856",
   "metadata": {},
   "outputs": [],
   "source": []
  },
  {
   "cell_type": "code",
   "execution_count": null,
   "id": "e477eed1",
   "metadata": {},
   "outputs": [],
   "source": []
  },
  {
   "cell_type": "code",
   "execution_count": null,
   "id": "be22624c",
   "metadata": {},
   "outputs": [],
   "source": []
  }
 ],
 "metadata": {
  "kernelspec": {
   "display_name": "Python 3 (ipykernel)",
   "language": "python",
   "name": "python3"
  },
  "language_info": {
   "codemirror_mode": {
    "name": "ipython",
    "version": 3
   },
   "file_extension": ".py",
   "mimetype": "text/x-python",
   "name": "python",
   "nbconvert_exporter": "python",
   "pygments_lexer": "ipython3",
   "version": "3.9.7"
  }
 },
 "nbformat": 4,
 "nbformat_minor": 5
}
